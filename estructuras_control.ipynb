{
 "cells": [
  {
   "cell_type": "code",
   "execution_count": null,
   "id": "18bb8fc7",
   "metadata": {},
   "outputs": [],
   "source": [
    "name = input('Please, enter your namme here: ')\n",
    "age = input ('Now enter your age here: ')\n",
    "if "
   ]
  },
  {
   "cell_type": "code",
   "execution_count": null,
   "id": "39c3011f",
   "metadata": {},
   "outputs": [],
   "source": []
  },
  {
   "cell_type": "markdown",
   "id": "6701f38f",
   "metadata": {},
   "source": []
  }
 ],
 "metadata": {
  "kernelspec": {
   "display_name": "Python 3",
   "language": "python",
   "name": "python3"
  },
  "language_info": {
   "name": "python",
   "version": "3.13.3"
  }
 },
 "nbformat": 4,
 "nbformat_minor": 5
}
